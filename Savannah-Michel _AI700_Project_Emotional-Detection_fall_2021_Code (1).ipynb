{
 "cells": [
  {
   "cell_type": "code",
   "execution_count": 1,
   "id": "b643fe67",
   "metadata": {},
   "outputs": [],
   "source": [
    "import numpy as np\n",
    "import pandas as pd\n",
    "from nltk.corpus import stopwords\n",
    "from nltk.tokenize import word_tokenize\n",
    "from nltk.stem.lancaster import LancasterStemmer\n",
    "import nltk\n",
    "import re\n",
    "import os\n",
    "from sklearn.preprocessing import OneHotEncoder\n",
    "import matplotlib.pyplot as plt\n",
    "from keras.preprocessing.text import Tokenizer\n",
    "from keras.preprocessing.sequence import pad_sequences\n",
    "from tensorflow.keras.utils import to_categorical\n",
    "from keras.models import Sequential, load_model\n",
    "from keras.layers import Dense, GRU, LSTM, Bidirectional, Embedding, Dropout\n",
    "from keras.callbacks import ModelCheckpoint\n",
    "from livelossplot.tf_keras import PlotLossesCallback\n",
    "from livelossplot import PlotLossesKeras"
   ]
  },
  {
   "cell_type": "code",
   "execution_count": 2,
   "id": "d5dbb349",
   "metadata": {},
   "outputs": [],
   "source": [
    "def load_dataset(filename):\n",
    "  df = pd.read_csv(filename)\n",
    "  label = df[\"label\"]\n",
    "  unique_label = list(set(label))\n",
    "  sentences = list(df[\"text\"])\n",
    "  \n",
    "  return (df, label, unique_label, sentences)"
   ]
  },
  {
   "cell_type": "code",
   "execution_count": 3,
   "id": "aa4bfd32",
   "metadata": {},
   "outputs": [],
   "source": [
    "df, label, unique_label, sentences = load_dataset('C:/Users/savan/Downloads/datasets/iseardataset.csv')"
   ]
  },
  {
   "cell_type": "code",
   "execution_count": 4,
   "id": "1e6a55e0",
   "metadata": {},
   "outputs": [
    {
     "name": "stdout",
     "output_type": "stream",
     "text": [
      "['anger', 'joy', 'disgust', 'fear', 'guilt', 'sadness', 'shame']\n"
     ]
    }
   ],
   "source": [
    "print(unique_label)"
   ]
  },
  {
   "cell_type": "code",
   "execution_count": 5,
   "id": "79ba7885",
   "metadata": {},
   "outputs": [
    {
     "name": "stdout",
     "output_type": "stream",
     "text": [
      "     label                                               text Unnamed: 2\n",
      "0      joy  On days when I feel close to my partner and ot...        NaN\n",
      "1     fear  Every time I imagine that someone I love or I ...        NaN\n",
      "2    anger  When I had been obviously unjustly treated and...        NaN\n",
      "3  sadness  When I think about the short time that we live...        NaN\n",
      "4  disgust  At a gathering I found myself involuntarily si...        NaN\n",
      "5    shame  When I realized that I was directing the feeli...        NaN\n",
      "6    guilt  I feel guilty when when I realize that I consi...        NaN\n",
      "7      joy  After my girlfriend had taken her exam we went...        NaN\n",
      "8     fear  When, for the first time I realized the meanin...        NaN\n",
      "9    anger  When a car is overtaking another and I am forc...        NaN\n"
     ]
    }
   ],
   "source": [
    "print(df.head(10))"
   ]
  },
  {
   "cell_type": "code",
   "execution_count": 6,
   "id": "93b3f97b",
   "metadata": {},
   "outputs": [],
   "source": [
    "#define stemmer\n",
    "stemmer = LancasterStemmer()"
   ]
  },
  {
   "cell_type": "code",
   "execution_count": 7,
   "id": "fa0c2d74",
   "metadata": {},
   "outputs": [],
   "source": [
    "def cleaning(sentences):\n",
    "  words = []\n",
    "  for s in sentences:\n",
    "    clean = re.sub(r'[^ a-z A-Z 0-9]', \" \", s)\n",
    "    w = word_tokenize(clean)\n",
    "    words.append([i.lower() for i in w])\n",
    "    \n",
    "  return words "
   ]
  },
  {
   "cell_type": "code",
   "execution_count": 8,
   "id": "745952fd",
   "metadata": {},
   "outputs": [
    {
     "name": "stdout",
     "output_type": "stream",
     "text": [
      "7516\n",
      "[['on', 'days', 'when', 'i', 'feel', 'close', 'to', 'my', 'partner', 'and', 'other', 'friends', 'when', 'i', 'feel', 'at', 'peace', 'with', 'myself', 'and', 'also', 'experience', 'a', 'close', 'contact', 'with', 'people', 'whom', 'i', 'regard', 'greatly'], ['every', 'time', 'i', 'imagine', 'that', 'someone', 'i', 'love', 'or', 'i', 'could', 'contact', 'a', 'serious', 'illness', 'even', 'death']]\n"
     ]
    }
   ],
   "source": [
    "cleaned_words = cleaning(sentences)\n",
    "print(len(cleaned_words))\n",
    "print(cleaned_words[:2])  "
   ]
  },
  {
   "cell_type": "code",
   "execution_count": 9,
   "id": "7c7139b2",
   "metadata": {},
   "outputs": [],
   "source": [
    "def create_tokenizer(words, filters = '!\"#$%&()*+,-./:;<=>?@[\\]^_`{|}~'):\n",
    "  token = Tokenizer(filters = filters)\n",
    "  token.fit_on_texts(words)\n",
    "  return token"
   ]
  },
  {
   "cell_type": "code",
   "execution_count": 10,
   "id": "e63258d1",
   "metadata": {},
   "outputs": [],
   "source": [
    "def max_length(words):\n",
    "  return(len(max(words, key = len)))"
   ]
  },
  {
   "cell_type": "code",
   "execution_count": 11,
   "id": "c002961f",
   "metadata": {},
   "outputs": [
    {
     "name": "stdout",
     "output_type": "stream",
     "text": [
      "Vocab Size = 8989 and Maximum length = 179\n"
     ]
    }
   ],
   "source": [
    "word_tokenizer = create_tokenizer(cleaned_words)\n",
    "vocab_size = len(word_tokenizer.word_index) + 1\n",
    "max_length = max_length(cleaned_words)\n",
    "\n",
    "print(\"Vocab Size = %d and Maximum length = %d\" % (vocab_size, max_length))"
   ]
  },
  {
   "cell_type": "code",
   "execution_count": 12,
   "id": "778e13b0",
   "metadata": {},
   "outputs": [],
   "source": [
    "def encoding_doc(token, words):\n",
    "  return(token.texts_to_sequences(words))"
   ]
  },
  {
   "cell_type": "code",
   "execution_count": 13,
   "id": "f3d78962",
   "metadata": {},
   "outputs": [],
   "source": [
    "encoded_doc = encoding_doc(word_tokenizer, cleaned_words)"
   ]
  },
  {
   "cell_type": "code",
   "execution_count": 14,
   "id": "9abed4b5",
   "metadata": {},
   "outputs": [],
   "source": [
    "def padding_doc(encoded_doc, max_length):\n",
    "  return(pad_sequences(encoded_doc, maxlen = max_length, padding = \"post\"))"
   ]
  },
  {
   "cell_type": "code",
   "execution_count": 15,
   "id": "34ed6207",
   "metadata": {},
   "outputs": [],
   "source": [
    "padded_doc = padding_doc(encoded_doc, max_length)"
   ]
  },
  {
   "cell_type": "code",
   "execution_count": 16,
   "id": "b9ff4f48",
   "metadata": {},
   "outputs": [
    {
     "name": "stdout",
     "output_type": "stream",
     "text": [
      "Shape of padded docs =  (7516, 179)\n"
     ]
    }
   ],
   "source": [
    "print(\"Shape of padded docs = \",padded_doc.shape)"
   ]
  },
  {
   "cell_type": "code",
   "execution_count": 17,
   "id": "4a835256",
   "metadata": {},
   "outputs": [],
   "source": [
    "#tokenizer with filter changed\n",
    "output_tokenizer = create_tokenizer(unique_label, filters = '!\"#$%&()*+,-/:;<=>?@[\\]^`{|}~')"
   ]
  },
  {
   "cell_type": "code",
   "execution_count": 18,
   "id": "6440245b",
   "metadata": {},
   "outputs": [
    {
     "data": {
      "text/plain": [
       "{'anger': 1,\n",
       " 'joy': 2,\n",
       " 'disgust': 3,\n",
       " 'fear': 4,\n",
       " 'guilt': 5,\n",
       " 'sadness': 6,\n",
       " 'shame': 7}"
      ]
     },
     "execution_count": 18,
     "metadata": {},
     "output_type": "execute_result"
    }
   ],
   "source": [
    "output_tokenizer.word_index"
   ]
  },
  {
   "cell_type": "code",
   "execution_count": 19,
   "id": "1d0fe373",
   "metadata": {},
   "outputs": [],
   "source": [
    "encoded_output = encoding_doc(output_tokenizer, label)"
   ]
  },
  {
   "cell_type": "code",
   "execution_count": 20,
   "id": "a22e579d",
   "metadata": {},
   "outputs": [],
   "source": [
    "encoded_output = np.array(encoded_output).reshape(len(encoded_output), 1)"
   ]
  },
  {
   "cell_type": "code",
   "execution_count": 21,
   "id": "248ff032",
   "metadata": {},
   "outputs": [
    {
     "data": {
      "text/plain": [
       "(7516, 1)"
      ]
     },
     "execution_count": 21,
     "metadata": {},
     "output_type": "execute_result"
    }
   ],
   "source": [
    "encoded_output.shape"
   ]
  },
  {
   "cell_type": "code",
   "execution_count": 22,
   "id": "f0171a55",
   "metadata": {},
   "outputs": [],
   "source": [
    "def one_hot(encode):\n",
    "  o = OneHotEncoder(sparse = False)\n",
    "  return(o.fit_transform(encode))"
   ]
  },
  {
   "cell_type": "code",
   "execution_count": 23,
   "id": "6d8b089a",
   "metadata": {},
   "outputs": [],
   "source": [
    "output_one_hot = one_hot(encoded_output)"
   ]
  },
  {
   "cell_type": "code",
   "execution_count": 24,
   "id": "8c98398a",
   "metadata": {},
   "outputs": [
    {
     "data": {
      "text/plain": [
       "(7516, 7)"
      ]
     },
     "execution_count": 24,
     "metadata": {},
     "output_type": "execute_result"
    }
   ],
   "source": [
    "output_one_hot.shape"
   ]
  },
  {
   "cell_type": "code",
   "execution_count": 25,
   "id": "af2a3dad",
   "metadata": {},
   "outputs": [],
   "source": [
    "from sklearn.model_selection import train_test_split"
   ]
  },
  {
   "cell_type": "code",
   "execution_count": 26,
   "id": "497bf534",
   "metadata": {},
   "outputs": [],
   "source": [
    "train_X, val_X, train_Y, val_Y = train_test_split(padded_doc, output_one_hot, shuffle = True, test_size = 0.2)"
   ]
  },
  {
   "cell_type": "code",
   "execution_count": 27,
   "id": "1112ac2e",
   "metadata": {},
   "outputs": [
    {
     "name": "stdout",
     "output_type": "stream",
     "text": [
      "Shape of train_X = (6012, 179) and train_Y = (6012, 7)\n",
      "Shape of val_X = (1504, 179) and val_Y = (1504, 7)\n"
     ]
    }
   ],
   "source": [
    "print(\"Shape of train_X = %s and train_Y = %s\" % (train_X.shape, train_Y.shape))\n",
    "print(\"Shape of val_X = %s and val_Y = %s\" % (val_X.shape, val_Y.shape))"
   ]
  },
  {
   "cell_type": "code",
   "execution_count": 28,
   "id": "ba0b014e",
   "metadata": {},
   "outputs": [],
   "source": [
    "def create_model(vocab_size, max_length):\n",
    "  model = Sequential()\n",
    "  model.add(Embedding(vocab_size, 128, input_length = max_length, trainable = False))\n",
    "  model.add(Bidirectional(GRU(128)))\n",
    "  model.add(Dense(32, activation = \"relu\"))\n",
    "  model.add(Dropout(0.5))\n",
    "  model.add(Dense(7, activation = \"softmax\"))\n",
    "  \n",
    "  return model"
   ]
  },
  {
   "cell_type": "code",
   "execution_count": 29,
   "id": "7aafba83",
   "metadata": {},
   "outputs": [
    {
     "name": "stdout",
     "output_type": "stream",
     "text": [
      "Model: \"sequential\"\n",
      "_________________________________________________________________\n",
      " Layer (type)                Output Shape              Param #   \n",
      "=================================================================\n",
      " embedding (Embedding)       (None, 179, 128)          1150592   \n",
      "                                                                 \n",
      " bidirectional (Bidirectiona  (None, 256)              198144    \n",
      " l)                                                              \n",
      "                                                                 \n",
      " dense (Dense)               (None, 32)                8224      \n",
      "                                                                 \n",
      " dropout (Dropout)           (None, 32)                0         \n",
      "                                                                 \n",
      " dense_1 (Dense)             (None, 7)                 231       \n",
      "                                                                 \n",
      "=================================================================\n",
      "Total params: 1,357,191\n",
      "Trainable params: 206,599\n",
      "Non-trainable params: 1,150,592\n",
      "_________________________________________________________________\n"
     ]
    }
   ],
   "source": [
    "model = create_model(vocab_size, max_length)\n",
    "\n",
    "model.compile(loss = \"categorical_crossentropy\", optimizer = \"adam\", metrics = [\"accuracy\"])\n",
    "model.summary()"
   ]
  },
  {
   "cell_type": "code",
   "execution_count": 30,
   "id": "dab89928",
   "metadata": {},
   "outputs": [],
   "source": [
    "filename = 'model.h5'\n",
    "checkpoint = ModelCheckpoint(filename,\n",
    "                             monitor='val_loss',\n",
    "                             verbose=1,\n",
    "                             save_best_only=True,\n",
    "                             mode='min')"
   ]
  },
  {
   "cell_type": "code",
   "execution_count": 31,
   "id": "fc8deda9",
   "metadata": {},
   "outputs": [
    {
     "data": {
      "image/png": "[encoded data removed]",
      "text/plain": [
       "<Figure size 864x576 with 2 Axes>"
      ]
     },
     "metadata": {
      "needs_background": "light"
     },
     "output_type": "display_data"
    },
    {
     "name": "stdout",
     "output_type": "stream",
     "text": [
      "accuracy\n",
      "\ttraining         \t (min:    0.157, max:    0.929, cur:    0.921)\n",
      "\tvalidation       \t (min:    0.209, max:    0.473, cur:    0.427)\n",
      "Loss\n",
      "\ttraining         \t (min:    0.207, max:    1.944, cur:    0.233)\n",
      "\tvalidation       \t (min:    1.469, max:    5.730, cur:    5.559)\n",
      "\n",
      "Epoch 00100: val_loss did not improve from 1.46917\n",
      "188/188 [==============================] - 44s 234ms/step - loss: 0.2330 - accuracy: 0.9208 - val_loss: 5.5590 - val_accuracy: 0.4269\n"
     ]
    }
   ],
   "source": [
    "hist = model.fit(train_X, train_Y,\n",
    "                 epochs = 100,\n",
    "                 batch_size = 32,\n",
    "                 validation_data = (val_X, val_Y),\n",
    "                 callbacks = [PlotLossesKeras(), checkpoint])"
   ]
  },
  {
   "cell_type": "code",
   "execution_count": 32,
   "id": "f06dec6c",
   "metadata": {},
   "outputs": [
    {
     "name": "stdout",
     "output_type": "stream",
     "text": [
      "Model: \"sequential_1\"\n",
      "_________________________________________________________________\n",
      " Layer (type)                Output Shape              Param #   \n",
      "=================================================================\n",
      " embedding_1 (Embedding)     (None, 179, 128)          1150592   \n",
      "                                                                 \n",
      " bidirectional_1 (Bidirectio  (None, 256)              263168    \n",
      " nal)                                                            \n",
      "                                                                 \n",
      " dense_2 (Dense)             (None, 32)                8224      \n",
      "                                                                 \n",
      " dropout_1 (Dropout)         (None, 32)                0         \n",
      "                                                                 \n",
      " dense_3 (Dense)             (None, 7)                 231       \n",
      "                                                                 \n",
      "=================================================================\n",
      "Total params: 1,422,215\n",
      "Trainable params: 271,623\n",
      "Non-trainable params: 1,150,592\n",
      "_________________________________________________________________\n"
     ]
    }
   ],
   "source": [
    "def create_model(vocab_size, max_length):\n",
    "  model = Sequential()\n",
    "  model.add(Embedding(vocab_size, 128, input_length = max_length, trainable = False))\n",
    "  model.add(Bidirectional(LSTM(128)))\n",
    "  model.add(Dense(32, activation = \"relu\"))\n",
    "  model.add(Dropout(0.5))\n",
    "  model.add(Dense(7, activation = \"softmax\"))\n",
    "  \n",
    "  return model\n",
    "\n",
    "model_lstm = create_model(vocab_size, max_length)\n",
    "\n",
    "model_lstm.compile(loss = \"categorical_crossentropy\", optimizer = \"adam\", metrics = [\"accuracy\"])\n",
    "model_lstm.summary()"
   ]
  },
  {
   "cell_type": "code",
   "execution_count": 33,
   "id": "86c23733",
   "metadata": {},
   "outputs": [
    {
     "data": {
      "image/png": "[encoded data removed]",
      "text/plain": [
       "<Figure size 864x576 with 2 Axes>"
      ]
     },
     "metadata": {
      "needs_background": "light"
     },
     "output_type": "display_data"
    },
    {
     "name": "stdout",
     "output_type": "stream",
     "text": [
      "accuracy\n",
      "\ttraining         \t (min:    0.175, max:    0.919, cur:    0.880)\n",
      "\tvalidation       \t (min:    0.210, max:    0.432, cur:    0.382)\n",
      "Loss\n",
      "\ttraining         \t (min:    0.237, max:    1.939, cur:    0.361)\n",
      "\tvalidation       \t (min:    1.592, max:    4.588, cur:    3.959)\n",
      "\n",
      "Epoch 00100: val_loss did not improve from 1.59189\n",
      "188/188 [==============================] - 38s 204ms/step - loss: 0.3608 - accuracy: 0.8796 - val_loss: 3.9589 - val_accuracy: 0.3823\n"
     ]
    }
   ],
   "source": [
    "filename = 'model_lstm.h5'\n",
    "checkpoint = ModelCheckpoint(filename,\n",
    "                             monitor='val_loss',\n",
    "                             verbose=1,\n",
    "                             save_best_only=True,\n",
    "                             mode='min')\n",
    "\n",
    "hist = model_lstm.fit(train_X, train_Y,\n",
    "                 epochs = 100,\n",
    "                 batch_size = 32,\n",
    "                 validation_data = (val_X, val_Y),\n",
    "                 callbacks = [PlotLossesKeras(), checkpoint])"
   ]
  },
  {
   "cell_type": "code",
   "execution_count": 34,
   "id": "e461bea7",
   "metadata": {},
   "outputs": [],
   "source": [
    "model = load_model(\"model_lstm.h5\")"
   ]
  },
  {
   "cell_type": "code",
   "execution_count": 35,
   "id": "2040bca2",
   "metadata": {},
   "outputs": [],
   "source": [
    "def predictions(text):\n",
    "  clean = re.sub(r'[^ a-z A-Z 0-9]', \" \", text)\n",
    "  test_word = word_tokenize(clean)\n",
    "  test_word = [w.lower() for w in test_word]\n",
    "  test_ls = word_tokenizer.texts_to_sequences(test_word)\n",
    "\n",
    "  if [] in test_ls:\n",
    "    test_ls = list(filter(None, test_ls))\n",
    "    \n",
    "  test_ls = np.array(test_ls).reshape(1, len(test_ls))\n",
    "  x = padding_doc(test_ls, max_length)\n",
    "\n",
    "  pred = model.predict(x)\n",
    "  \n",
    "  return pred"
   ]
  },
  {
   "cell_type": "code",
   "execution_count": 36,
   "id": "d41e0090",
   "metadata": {},
   "outputs": [],
   "source": [
    "def get_final_output(pred, classes):\n",
    "  predictions = pred[0]\n",
    "  classes = np.array(classes)\n",
    "  ids = np.argsort(-predictions)\n",
    "  classes = classes[ids]\n",
    "  predictions = -np.sort(-predictions)\n",
    " \n",
    "  for i in range(pred.shape[1]):\n",
    "    print(\"%s has confidence = %s\" % (classes[i], (predictions[i])))\n",
    "  \n",
    "  return classes[0]"
   ]
  },
  {
   "cell_type": "code",
   "execution_count": 37,
   "id": "8708470f",
   "metadata": {},
   "outputs": [],
   "source": [
    "def get_emotion(text):\n",
    "    pred = predictions(text)\n",
    "    result = get_final_output(pred, unique_label)\n",
    "    print('\\nans: {}\\n'.format(result))"
   ]
  },
  {
   "cell_type": "code",
   "execution_count": 38,
   "id": "0744d545",
   "metadata": {},
   "outputs": [
    {
     "name": "stdout",
     "output_type": "stream",
     "text": [
      "guilt has confidence = 0.26443067\n",
      "sadness has confidence = 0.18056878\n",
      "anger has confidence = 0.17638208\n",
      "fear has confidence = 0.15675107\n",
      "shame has confidence = 0.12698661\n",
      "joy has confidence = 0.056263328\n",
      "disgust has confidence = 0.038617462\n",
      "\n",
      "ans: guilt\n",
      "\n"
     ]
    }
   ],
   "source": [
    "get_emotion(\"I did not help out enough at my thesis team.\")"
   ]
  },
  {
   "cell_type": "code",
   "execution_count": 39,
   "id": "1c10adb2",
   "metadata": {},
   "outputs": [],
   "source": [
    "def classify(text, show_details=False):\n",
    "    pred = predictions(text)\n",
    "    result = get_final_output(pred, unique_label)\n",
    "    print (\"%s \\n classification: %s \\n\" % (text, result))\n",
    "    return result"
   ]
  },
  {
   "cell_type": "code",
   "execution_count": 41,
   "id": "7a14f578",
   "metadata": {},
   "outputs": [],
   "source": [
    "import string\n",
    "import random\n",
    "printable = set(string.printable) \n",
    "\n",
    "\n",
    "def jokes():\n",
    "    s=open(\"C:/Users/savan/Downloads/datasets/jokes.txt\",\"r\")\n",
    "    m=s.readlines()\n",
    "    l=[]\n",
    "    for i in range(0,len(m)-1):\n",
    "        x=m[i]\n",
    "        z=len(x)\n",
    "        a=x[:z-1]\n",
    "        l.append(a)\n",
    "    l.append(m[i+1])\n",
    "    o=random.choice(l)\n",
    "    print(o)\n",
    "    s.close()"
   ]
  },
  {
   "cell_type": "code",
   "execution_count": 42,
   "id": "92e2e6b6",
   "metadata": {},
   "outputs": [],
   "source": [
    "printable = set(string.printable)"
   ]
  },
  {
   "cell_type": "code",
   "execution_count": null,
   "id": "8ca8aa24",
   "metadata": {},
   "outputs": [
    {
     "name": "stdout",
     "output_type": "stream",
     "text": [
      "Hello, wonderful to see you here today. What is your name?\n",
      "Bob\n",
      "Bob is there anything on your mind today?\n",
      "I can't fly home for Christmas cause flights are too expensive. \n",
      "Would you like me to perform an analysis on that statement?\n",
      "Yes\n",
      "sadness has confidence = 0.29090255\n",
      "fear has confidence = 0.22296982\n",
      "guilt has confidence = 0.16955598\n",
      "anger has confidence = 0.114360414\n",
      "shame has confidence = 0.09584929\n",
      "joy has confidence = 0.072294824\n",
      "disgust has confidence = 0.034067165\n",
      "\n",
      "ans: sadness\n",
      "\n",
      "None\n",
      "Would a joke help improve your day?\n",
      "Yes\n",
      "Policeman: I'm very sorry, sir, but it looks like your wife got hit by a bus. Man: I'm aware of that, but Karen has a wonderful personality.\n",
      "Would you like another joke?\n"
     ]
    }
   ],
   "source": [
    "from IPython.display import clear_output\n",
    "\n",
    "print(\"Hello, wonderful to see you here today. What is your name?\")\n",
    "name = input()\n",
    "print(name + \" is there anything on your mind today?\")\n",
    "input_sentiment = input()\n",
    "print(\"Would you like me to perform an analysis on that statement?\")\n",
    "input_desire = input()\n",
    "while True:\n",
    "    \n",
    "    if input_desire == \"N\" or input_desire == \"No\" or input_desire == \"no\" or input_desire == \"n\":\n",
    "        print(\"I understand, I hope you have a nice day.\")\n",
    "        break\n",
    "        \n",
    "    else:\n",
    "        sentiment = get_emotion(input_sentiment)\n",
    "        print(sentiment)\n",
    "        print(\"Would a joke help improve your day?\")\n",
    "        joke_improve = input()\n",
    "        if joke_improve == \"N\" or joke_improve == \"No\" or joke_improve == \"no\" or joke_improve == \"n\":\n",
    "            print(\"Would you like another analysis?\")\n",
    "            another = input()\n",
    "            if another == \"N\" or another == \"No\" or another == \"no\" or another == \"n\":\n",
    "                print(\"I understand, I hope you have a nice day.\")\n",
    "                break\n",
    "                \n",
    "            else: \n",
    "                print(\"Tell me what else is on your mind.\")\n",
    "                input_sentiment = input()\n",
    "                sentiment = get_emotion(input_sentiment)[0][0]\n",
    "                print(sentiment)\n",
    "        else: \n",
    "            jokes()\n",
    "            print(\"Would you like another joke?\")\n",
    "            anotherjoke = input()\n",
    "            if another == \"N\" or another == \"No\" or another == \"no\" or another == \"n\":\n",
    "                print(\"I understand, I hope you have a nice day.\")\n",
    "                break\n",
    "                \n",
    "            else: \n",
    "                jokes()\n",
    "                print(\"Hope you have a better day!\")\n",
    "                break\n",
    "            \n"
   ]
  },
  {
   "cell_type": "code",
   "execution_count": null,
   "id": "a37c075a",
   "metadata": {},
   "outputs": [],
   "source": []
  }
 ],
 "metadata": {
  "kernelspec": {
   "display_name": "Python 3",
   "language": "python",
   "name": "python3"
  },
  "language_info": {
   "codemirror_mode": {
    "name": "ipython",
    "version": 3
   },
   "file_extension": ".py",
   "mimetype": "text/x-python",
   "name": "python",
   "nbconvert_exporter": "python",
   "pygments_lexer": "ipython3",
   "version": "3.8.8"
  }
 },
 "nbformat": 4,
 "nbformat_minor": 5
}
